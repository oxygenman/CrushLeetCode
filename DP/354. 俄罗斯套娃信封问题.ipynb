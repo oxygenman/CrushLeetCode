{
 "cells": [
  {
   "cell_type": "markdown",
   "id": "99fe12d8",
   "metadata": {},
   "source": [
    "## 354. 俄罗斯套娃信封问题"
   ]
  },
  {
   "cell_type": "markdown",
   "id": "771c7c7b",
   "metadata": {},
   "source": [
    "给你一个二维整数数组 envelopes ，其中 envelopes[i] = [wi, hi] ，表示第 i 个信封的宽度和高度。\n",
    "\n",
    "当另一个信封的宽度和高度都比这个信封大的时候，这个信封就可以放进另一个信封里，如同俄罗斯套娃一样。\n",
    "\n",
    "请计算 最多能有多少个 信封能组成一组“俄罗斯套娃”信封（即可以把一个信封放到另一个信封里面）。\n",
    "\n",
    "注意：不允许旋转信封。\n",
    "\n",
    " \n",
    "示例 1：\n",
    "\n",
    "输入：envelopes = [[5,4],[6,4],[6,7],[2,3]]\n",
    "输出：3\n",
    "解释：最多信封的个数为 3, 组合为: [2,3] => [5,4] => [6,7]。\n",
    "示例 2：\n",
    "\n",
    "输入：envelopes = [[1,1],[1,1],[1,1]]\n",
    "输出：1\n",
    " \n",
    "\n",
    "提示：\n",
    "\n",
    "1 <= envelopes.length <= 105\n",
    "envelopes[i].length == 2\n",
    "1 <= wi, hi <= 105\n"
   ]
  },
  {
   "cell_type": "markdown",
   "id": "31d3ed13",
   "metadata": {},
   "source": [
    "## 解题思路"
   ]
  },
  {
   "cell_type": "markdown",
   "id": "45d00ff1",
   "metadata": {},
   "source": [
    "  首先想一下在现实中遇到这个问题你会怎么办？ 是不是会先按信封的宽度或者长度对信封进行一个排序，然后再在排过序的的信封序列中，找出可以嵌套的长度或者宽度。假如我们首先按h进行排序，那我们只要在排好序的序列中找到w的最长递增子序列就行了，那么问题来了,如果h相同应该怎么办？h相同是不能嵌套的，如果我们把相同h的信封的w按升序排列的话，就会出现选中相同h的信封进行嵌套的情况，所以我们应该将w降序排列，保证相同h不会嵌套，h相同只选择一个信封。\n",
    "  排完序之后，我们只需要关注w,就行了。问题就变成了了一个最长递增子序列问题嘞。最长递增子序列可以通过动态规划进行解决"
   ]
  },
  {
   "cell_type": "markdown",
   "id": "78cff43c",
   "metadata": {},
   "source": [
    "## 代码"
   ]
  },
  {
   "cell_type": "code",
   "execution_count": 17,
   "id": "706d2fb9",
   "metadata": {},
   "outputs": [
    {
     "name": "stdout",
     "output_type": "stream",
     "text": [
      "3\n"
     ]
    },
    {
     "data": {
      "text/plain": [
       "3"
      ]
     },
     "execution_count": 17,
     "metadata": {},
     "output_type": "execute_result"
    }
   ],
   "source": [
    "def maxEnvelopes(envelopes):\n",
    "    envelopes.sort(key=lambda k:(k[0],-k[1]) )\n",
    "    dp=[0]*len(envelopes)\n",
    "    for i in range(1,len(envelopes)):\n",
    "        for j in range(i):\n",
    "            if(envelopes[i][1]>dp[j]):\n",
    "                dp[i]=max(dp[i],dp[j]+1)\n",
    "            else:\n",
    "                continue\n",
    "    return dp[len(enve\n",
    "    \n",
    "    \n",
    "    \n",
    "envelopes = [[5,4],[6,4],[6,7],[2,3]]\n",
    "maxEnvelopes(envelopes)"
   ]
  },
  {
   "cell_type": "code",
   "execution_count": null,
   "id": "50e130db",
   "metadata": {},
   "outputs": [],
   "source": []
  }
 ],
 "metadata": {
  "kernelspec": {
   "display_name": "Python 3",
   "language": "python",
   "name": "python3"
  },
  "language_info": {
   "codemirror_mode": {
    "name": "ipython",
    "version": 3
   },
   "file_extension": ".py",
   "mimetype": "text/x-python",
   "name": "python",
   "nbconvert_exporter": "python",
   "pygments_lexer": "ipython3",
   "version": "3.7.3"
  }
 },
 "nbformat": 4,
 "nbformat_minor": 5
}
